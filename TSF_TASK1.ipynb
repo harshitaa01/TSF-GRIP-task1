{
  "nbformat": 4,
  "nbformat_minor": 0,
  "metadata": {
    "colab": {
      "name": "TSF_TASK1.ipynb",
      "provenance": [],
      "authorship_tag": "ABX9TyNTvRMCWHH66qVb/xjqPGLw",
      "include_colab_link": true
    },
    "kernelspec": {
      "name": "python3",
      "display_name": "Python 3"
    }
  },
  "cells": [
    {
      "cell_type": "markdown",
      "metadata": {
        "id": "view-in-github",
        "colab_type": "text"
      },
      "source": [
        "<a href=\"https://colab.research.google.com/github/harshitaa01/TSF-GRIP-task1/blob/main/TSF_TASK1.ipynb\" target=\"_parent\"><img src=\"https://colab.research.google.com/assets/colab-badge.svg\" alt=\"Open In Colab\"/></a>"
      ]
    },
    {
      "cell_type": "markdown",
      "metadata": {
        "id": "p2kOUIXXgpqc"
      },
      "source": [
        "**PREDICTING THE PERCENTAGE OF A STUDENT BASED ON THE NUMBER OF STUDY HOURS**"
      ]
    },
    {
      "cell_type": "code",
      "metadata": {
        "id": "m904aDzE9BZq"
      },
      "source": [
        "#importing required libraries\n",
        "import pandas as pd\n",
        "import numpy as np\n",
        "import matplotlib.pyplot as plt\n",
        "from sklearn.model_selection import train_test_split\n",
        "from sklearn.linear_model import LinearRegression\n",
        "from sklearn import metrics"
      ],
      "execution_count": null,
      "outputs": []
    },
    {
      "cell_type": "code",
      "metadata": {
        "id": "eLqLOMcchbkL",
        "outputId": "b4c44fe2-8107-4376-e094-fd17cc902465",
        "colab": {
          "base_uri": "https://localhost:8080/",
          "height": 204
        }
      },
      "source": [
        "#reading the dataset\n",
        "url = 'http://bit.ly/w-data'\n",
        "data = pd.read_csv(url)\n",
        "data.head()"
      ],
      "execution_count": null,
      "outputs": [
        {
          "output_type": "execute_result",
          "data": {
            "text/html": [
              "<div>\n",
              "<style scoped>\n",
              "    .dataframe tbody tr th:only-of-type {\n",
              "        vertical-align: middle;\n",
              "    }\n",
              "\n",
              "    .dataframe tbody tr th {\n",
              "        vertical-align: top;\n",
              "    }\n",
              "\n",
              "    .dataframe thead th {\n",
              "        text-align: right;\n",
              "    }\n",
              "</style>\n",
              "<table border=\"1\" class=\"dataframe\">\n",
              "  <thead>\n",
              "    <tr style=\"text-align: right;\">\n",
              "      <th></th>\n",
              "      <th>Hours</th>\n",
              "      <th>Scores</th>\n",
              "    </tr>\n",
              "  </thead>\n",
              "  <tbody>\n",
              "    <tr>\n",
              "      <th>0</th>\n",
              "      <td>2.5</td>\n",
              "      <td>21</td>\n",
              "    </tr>\n",
              "    <tr>\n",
              "      <th>1</th>\n",
              "      <td>5.1</td>\n",
              "      <td>47</td>\n",
              "    </tr>\n",
              "    <tr>\n",
              "      <th>2</th>\n",
              "      <td>3.2</td>\n",
              "      <td>27</td>\n",
              "    </tr>\n",
              "    <tr>\n",
              "      <th>3</th>\n",
              "      <td>8.5</td>\n",
              "      <td>75</td>\n",
              "    </tr>\n",
              "    <tr>\n",
              "      <th>4</th>\n",
              "      <td>3.5</td>\n",
              "      <td>30</td>\n",
              "    </tr>\n",
              "  </tbody>\n",
              "</table>\n",
              "</div>"
            ],
            "text/plain": [
              "   Hours  Scores\n",
              "0    2.5      21\n",
              "1    5.1      47\n",
              "2    3.2      27\n",
              "3    8.5      75\n",
              "4    3.5      30"
            ]
          },
          "metadata": {
            "tags": []
          },
          "execution_count": 23
        }
      ]
    },
    {
      "cell_type": "code",
      "metadata": {
        "id": "z8TYjtnRh51e",
        "outputId": "38f6b227-28cb-4e18-9ff0-a03f86717811",
        "colab": {
          "base_uri": "https://localhost:8080/",
          "height": 295
        }
      },
      "source": [
        "#Creating the graph between hours and the scores of the student\n",
        "x = data['Hours']\n",
        "y = data['Scores']\n",
        "plt.plot(x,y,'ro')\n",
        "plt.title('HOURS vs SCORES')\n",
        "plt.xlabel('HOURS')\n",
        "plt.ylabel('SCORES')\n",
        "plt.show()"
      ],
      "execution_count": null,
      "outputs": [
        {
          "output_type": "display_data",
          "data": {
            "image/png": "[encoded data removed]",
            "text/plain": [
              "<Figure size 432x288 with 1 Axes>"
            ]
          },
          "metadata": {
            "tags": [],
            "needs_background": "light"
          }
        }
      ]
    },
    {
      "cell_type": "markdown",
      "metadata": {
        "id": "odQ5ELRakA9r"
      },
      "source": [
        "Here, the number of hours and the scores of the student are having a positive linear relation that can be interpreted by the graph."
      ]
    },
    {
      "cell_type": "code",
      "metadata": {
        "id": "RxJf40PxjzuH"
      },
      "source": [
        "#splitting the data using the train_test_split() method:\n",
        "X = data.iloc[: , :-1].values\n",
        "Y = data.iloc[:,1].values\n",
        "\n",
        "x_train,x_test,y_train,y_test = train_test_split(X,Y, test_size = 0.2, random_state = 0)"
      ],
      "execution_count": null,
      "outputs": []
    },
    {
      "cell_type": "markdown",
      "metadata": {
        "id": "cFq-5-yBm1GN"
      },
      "source": [
        "**TRAINING** **THE** **ALGORITHM**"
      ]
    },
    {
      "cell_type": "code",
      "metadata": {
        "id": "1gPzESSykYjK"
      },
      "source": [
        "regressor_a = LinearRegression()\n",
        "regressor_a.fit(X,Y)\n",
        "\n",
        "#the regression line\n",
        "reg_line = regressor_a.coef_*X+regressor_a.intercept_"
      ],
      "execution_count": null,
      "outputs": []
    },
    {
      "cell_type": "code",
      "metadata": {
        "id": "jqqNCfxisda5",
        "outputId": "fc95d0eb-733d-447c-eb26-34f671a72820",
        "colab": {
          "base_uri": "https://localhost:8080/",
          "height": 265
        }
      },
      "source": [
        "plt.scatter(X,Y)\n",
        "plt.plot(X,reg_line)\n",
        "plt.show()"
      ],
      "execution_count": null,
      "outputs": [
        {
          "output_type": "display_data",
          "data": {
            "image/png": "[encoded data removed]",
            "text/plain": [
              "<Figure size 432x288 with 1 Axes>"
            ]
          },
          "metadata": {
            "tags": [],
            "needs_background": "light"
          }
        }
      ]
    },
    {
      "cell_type": "markdown",
      "metadata": {
        "id": "VmHFmnvts9gm"
      },
      "source": [
        "**MAKING PREDICTIONS**"
      ]
    },
    {
      "cell_type": "code",
      "metadata": {
        "id": "ftH7Q6nIs7Fn",
        "outputId": "c26584ea-da8d-4698-d581-e7dc88606b78",
        "colab": {
          "base_uri": "https://localhost:8080/"
        }
      },
      "source": [
        "print(x_test)\n",
        "y_predic = regressor_a.predict(x_test)"
      ],
      "execution_count": null,
      "outputs": [
        {
          "output_type": "stream",
          "text": [
            "[[1.5]\n",
            " [3.2]\n",
            " [7.4]\n",
            " [2.5]\n",
            " [5.9]]\n"
          ],
          "name": "stdout"
        }
      ]
    },
    {
      "cell_type": "markdown",
      "metadata": {
        "id": "aLcJHVP8ME09"
      },
      "source": [
        "**COMPARING THE ACTUAL AND THE PREDICTED VALUES**"
      ]
    },
    {
      "cell_type": "code",
      "metadata": {
        "id": "EMe1va3YMD1p",
        "outputId": "1700bd9c-7dbb-42d1-bddf-52ab18b21e42",
        "colab": {
          "base_uri": "https://localhost:8080/",
          "height": 204
        }
      },
      "source": [
        "data1 = {'Actual' : y_test,'Predicted' : y_predic}\n",
        "df = pd.DataFrame(data1)\n",
        "df"
      ],
      "execution_count": null,
      "outputs": [
        {
          "output_type": "execute_result",
          "data": {
            "text/html": [
              "<div>\n",
              "<style scoped>\n",
              "    .dataframe tbody tr th:only-of-type {\n",
              "        vertical-align: middle;\n",
              "    }\n",
              "\n",
              "    .dataframe tbody tr th {\n",
              "        vertical-align: top;\n",
              "    }\n",
              "\n",
              "    .dataframe thead th {\n",
              "        text-align: right;\n",
              "    }\n",
              "</style>\n",
              "<table border=\"1\" class=\"dataframe\">\n",
              "  <thead>\n",
              "    <tr style=\"text-align: right;\">\n",
              "      <th></th>\n",
              "      <th>Actual</th>\n",
              "      <th>Predicted</th>\n",
              "    </tr>\n",
              "  </thead>\n",
              "  <tbody>\n",
              "    <tr>\n",
              "      <th>0</th>\n",
              "      <td>20</td>\n",
              "      <td>17.147378</td>\n",
              "    </tr>\n",
              "    <tr>\n",
              "      <th>1</th>\n",
              "      <td>27</td>\n",
              "      <td>33.766244</td>\n",
              "    </tr>\n",
              "    <tr>\n",
              "      <th>2</th>\n",
              "      <td>69</td>\n",
              "      <td>74.824618</td>\n",
              "    </tr>\n",
              "    <tr>\n",
              "      <th>3</th>\n",
              "      <td>30</td>\n",
              "      <td>26.923182</td>\n",
              "    </tr>\n",
              "    <tr>\n",
              "      <th>4</th>\n",
              "      <td>62</td>\n",
              "      <td>60.160913</td>\n",
              "    </tr>\n",
              "  </tbody>\n",
              "</table>\n",
              "</div>"
            ],
            "text/plain": [
              "   Actual  Predicted\n",
              "0      20  17.147378\n",
              "1      27  33.766244\n",
              "2      69  74.824618\n",
              "3      30  26.923182\n",
              "4      62  60.160913"
            ]
          },
          "metadata": {
            "tags": []
          },
          "execution_count": 39
        }
      ]
    },
    {
      "cell_type": "code",
      "metadata": {
        "id": "VLA9XVuAL9-_",
        "outputId": "7aecf4f3-ab9d-452f-c353-64c258853af1",
        "colab": {
          "base_uri": "https://localhost:8080/"
        }
      },
      "source": [
        "print(\"Training Score : \", regressor_a.score(x_train,y_train))\n",
        "print(\"Testing Score : \",regressor_a.score(x_test,y_test))"
      ],
      "execution_count": null,
      "outputs": [
        {
          "output_type": "stream",
          "text": [
            "Training Score :  0.9512837351709387\n",
            "Testing Score :  0.9491748734859172\n"
          ],
          "name": "stdout"
        }
      ]
    },
    {
      "cell_type": "code",
      "metadata": {
        "id": "kseNt44wNLcG",
        "outputId": "ab6fc37f-9703-4793-c950-25320fcfc502",
        "colab": {
          "base_uri": "https://localhost:8080/",
          "height": 495
        }
      },
      "source": [
        "df.plot(kind = 'bar', figsize = (8,8))\n",
        "plt.title('Comparing actual and predicted scores')\n",
        "plt.show()"
      ],
      "execution_count": null,
      "outputs": [
        {
          "output_type": "display_data",
          "data": {
            "image/png": "[encoded data removed]",
            "text/plain": [
              "<Figure size 576x576 with 1 Axes>"
            ]
          },
          "metadata": {
            "tags": [],
            "needs_background": "light"
          }
        }
      ]
    },
    {
      "cell_type": "code",
      "metadata": {
        "id": "tuqvxof-QWci",
        "outputId": "0b3a76c9-d261-437e-fb37-c2f978e859a1",
        "colab": {
          "base_uri": "https://localhost:8080/"
        }
      },
      "source": [
        "hours = 9.25\n",
        "test = np.array(hours).reshape(-1,1)\n",
        "predict = regressor_a.predict(test)\n",
        "print(\"Hours : \",hours)\n",
        "print(\"Predicted Score of the student : \",predict[0])"
      ],
      "execution_count": null,
      "outputs": [
        {
          "output_type": "stream",
          "text": [
            "Hours :  9.25\n",
            "Predicted Score of the student :  92.9098547701573\n"
          ],
          "name": "stdout"
        }
      ]
    },
    {
      "cell_type": "code",
      "metadata": {
        "id": "UKdn-tXPRRVH",
        "outputId": "805439fd-c0ff-429e-b551-21d4d69407cc",
        "colab": {
          "base_uri": "https://localhost:8080/"
        }
      },
      "source": [
        "print(\"Mean Absolute Error : \",metrics.mean_absolute_error(y_test,y_predic))\n",
        "print(\"Mean Squared Error : \",metrics.mean_squared_error(y_test,y_predic))\n",
        "print(\"Root Mean Absolute Error : \",np.sqrt(metrics.mean_squared_error(y_test,y_predic)))\n",
        "print(\"Explained Variance Score : \",metrics.explained_variance_score(y_test,y_predic))"
      ],
      "execution_count": null,
      "outputs": [
        {
          "output_type": "stream",
          "text": [
            "Mean Absolute Error :  4.071877793635605\n",
            "Mean Squared Error :  20.138948129940175\n",
            "Root Mean Absolute Error :  4.487643939746131\n",
            "Explained Variance Score :  0.9515224335188082\n"
          ],
          "name": "stdout"
        }
      ]
    }
  ]
}